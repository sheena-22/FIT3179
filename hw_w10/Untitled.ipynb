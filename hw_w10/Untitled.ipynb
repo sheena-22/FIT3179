{
 "cells": [
  {
   "cell_type": "code",
   "execution_count": 1,
   "id": "bcdb62ba",
   "metadata": {},
   "outputs": [],
   "source": [
    "import pandas as pd"
   ]
  },
  {
   "cell_type": "code",
   "execution_count": 2,
   "id": "5c6a217e",
   "metadata": {},
   "outputs": [],
   "source": [
    "df = pd.read_csv('world-crime-rate-statistics.csv')\n",
    "\n",
    "# Assuming your date column is named 'Date', you can create a new 'Year' column with just the years\n",
    "df['Year'] = pd.to_datetime(df['date'], format='%d/%m/%Y').dt.year\n",
    "\n",
    "output_csv_file = 'clean_data.csv'  # Replace with the desired output file path\n",
    "df.to_csv(output_csv_file, index=False)"
   ]
  },
  {
   "cell_type": "code",
   "execution_count": 3,
   "id": "ba598eb2",
   "metadata": {},
   "outputs": [
    {
     "data": {
      "text/html": [
       "<div>\n",
       "<style scoped>\n",
       "    .dataframe tbody tr th:only-of-type {\n",
       "        vertical-align: middle;\n",
       "    }\n",
       "\n",
       "    .dataframe tbody tr th {\n",
       "        vertical-align: top;\n",
       "    }\n",
       "\n",
       "    .dataframe thead th {\n",
       "        text-align: right;\n",
       "    }\n",
       "</style>\n",
       "<table border=\"1\" class=\"dataframe\">\n",
       "  <thead>\n",
       "    <tr style=\"text-align: right;\">\n",
       "      <th></th>\n",
       "      <th>date</th>\n",
       "      <th>Per 100K Population</th>\n",
       "      <th>Annual % Change</th>\n",
       "      <th>Unnamed: 3</th>\n",
       "      <th>Year</th>\n",
       "    </tr>\n",
       "  </thead>\n",
       "  <tbody>\n",
       "    <tr>\n",
       "      <th>0</th>\n",
       "      <td>31/12/2000</td>\n",
       "      <td>6.8542</td>\n",
       "      <td>NaN</td>\n",
       "      <td>NaN</td>\n",
       "      <td>2000</td>\n",
       "    </tr>\n",
       "    <tr>\n",
       "      <th>1</th>\n",
       "      <td>31/12/2001</td>\n",
       "      <td>6.9437</td>\n",
       "      <td>1.31</td>\n",
       "      <td>NaN</td>\n",
       "      <td>2001</td>\n",
       "    </tr>\n",
       "    <tr>\n",
       "      <th>2</th>\n",
       "      <td>31/12/2002</td>\n",
       "      <td>6.9060</td>\n",
       "      <td>-0.54</td>\n",
       "      <td>NaN</td>\n",
       "      <td>2002</td>\n",
       "    </tr>\n",
       "    <tr>\n",
       "      <th>3</th>\n",
       "      <td>31/12/2003</td>\n",
       "      <td>6.7293</td>\n",
       "      <td>-2.56</td>\n",
       "      <td>NaN</td>\n",
       "      <td>2003</td>\n",
       "    </tr>\n",
       "    <tr>\n",
       "      <th>4</th>\n",
       "      <td>31/12/2004</td>\n",
       "      <td>6.5042</td>\n",
       "      <td>-3.35</td>\n",
       "      <td>NaN</td>\n",
       "      <td>2004</td>\n",
       "    </tr>\n",
       "  </tbody>\n",
       "</table>\n",
       "</div>"
      ],
      "text/plain": [
       "         date   Per 100K Population   Annual % Change Unnamed: 3  Year\n",
       "0  31/12/2000                6.8542               NaN        NaN  2000\n",
       "1  31/12/2001                6.9437              1.31        NaN  2001\n",
       "2  31/12/2002                6.9060             -0.54        NaN  2002\n",
       "3  31/12/2003                6.7293             -2.56        NaN  2003\n",
       "4  31/12/2004                6.5042             -3.35        NaN  2004"
      ]
     },
     "execution_count": 3,
     "metadata": {},
     "output_type": "execute_result"
    }
   ],
   "source": [
    "df.head()"
   ]
  },
  {
   "cell_type": "code",
   "execution_count": null,
   "id": "1478bbcf",
   "metadata": {},
   "outputs": [],
   "source": []
  }
 ],
 "metadata": {
  "kernelspec": {
   "display_name": "Python 3 (ipykernel)",
   "language": "python",
   "name": "python3"
  },
  "language_info": {
   "codemirror_mode": {
    "name": "ipython",
    "version": 3
   },
   "file_extension": ".py",
   "mimetype": "text/x-python",
   "name": "python",
   "nbconvert_exporter": "python",
   "pygments_lexer": "ipython3",
   "version": "3.9.12"
  }
 },
 "nbformat": 4,
 "nbformat_minor": 5
}
